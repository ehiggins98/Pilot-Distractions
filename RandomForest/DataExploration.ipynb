{
 "cells": [
  {
   "cell_type": "code",
   "execution_count": 1,
   "metadata": {},
   "outputs": [],
   "source": [
    "import pandas as pd\n",
    "\n",
    "chunks = pd.read_csv('data/train.csv', chunksize=100000)"
   ]
  },
  {
   "cell_type": "code",
   "execution_count": 2,
   "metadata": {},
   "outputs": [],
   "source": [
    "train = pd.concat(chunks)"
   ]
  },
  {
   "cell_type": "code",
   "execution_count": 3,
   "metadata": {},
   "outputs": [
    {
     "name": "stdout",
     "output_type": "stream",
     "text": [
      "<class 'pandas.core.frame.DataFrame'>\n",
      "RangeIndex: 4867421 entries, 0 to 4867420\n",
      "Data columns (total 28 columns):\n",
      "crew          int64\n",
      "experiment    object\n",
      "time          float64\n",
      "seat          int64\n",
      "eeg_fp1       float64\n",
      "eeg_f7        float64\n",
      "eeg_f8        float64\n",
      "eeg_t4        float64\n",
      "eeg_t6        float64\n",
      "eeg_t5        float64\n",
      "eeg_t3        float64\n",
      "eeg_fp2       float64\n",
      "eeg_o1        float64\n",
      "eeg_p3        float64\n",
      "eeg_pz        float64\n",
      "eeg_f3        float64\n",
      "eeg_fz        float64\n",
      "eeg_f4        float64\n",
      "eeg_c4        float64\n",
      "eeg_p4        float64\n",
      "eeg_poz       float64\n",
      "eeg_c3        float64\n",
      "eeg_cz        float64\n",
      "eeg_o2        float64\n",
      "ecg           float64\n",
      "r             float64\n",
      "gsr           float64\n",
      "event         object\n",
      "dtypes: float64(24), int64(2), object(2)\n",
      "memory usage: 1.0+ GB\n"
     ]
    }
   ],
   "source": [
    "train.info()"
   ]
  },
  {
   "cell_type": "code",
   "execution_count": 4,
   "metadata": {},
   "outputs": [],
   "source": [
    "train = train.drop(['experiment', 'time', 'seat', 'crew'], axis=1)\n",
    "\n",
    "train['event'] = train['event'].map({'A': 0, 'B': 1, 'C': 2, 'D': 3})\n",
    "X = train.drop('event', axis=1)\n",
    "y = train['event']"
   ]
  },
  {
   "cell_type": "code",
   "execution_count": 5,
   "metadata": {},
   "outputs": [],
   "source": [
    "from sklearn.model_selection import train_test_split\n",
    "\n",
    "train_X, test_X, train_y, test_y = train_test_split(X, y, split=)"
   ]
  },
  {
   "cell_type": "code",
   "execution_count": 7,
   "metadata": {},
   "outputs": [],
   "source": [
    "from sklearn.ensemble import RandomForestClassifier\n",
    "\n",
    "clf = RandomForestClassifier(n_estimators=25, max_depth=3,\n",
    "                             random_state=0)"
   ]
  },
  {
   "cell_type": "code",
   "execution_count": 9,
   "metadata": {},
   "outputs": [
    {
     "data": {
      "text/plain": [
       "RandomForestClassifier(bootstrap=True, class_weight=None, criterion='gini',\n",
       "            max_depth=3, max_features='auto', max_leaf_nodes=None,\n",
       "            min_impurity_decrease=0.0, min_impurity_split=None,\n",
       "            min_samples_leaf=1, min_samples_split=2,\n",
       "            min_weight_fraction_leaf=0.0, n_estimators=25, n_jobs=None,\n",
       "            oob_score=False, random_state=0, verbose=0, warm_start=False)"
      ]
     },
     "execution_count": 9,
     "metadata": {},
     "output_type": "execute_result"
    }
   ],
   "source": [
    "clf.fit(train_X, train_y)"
   ]
  },
  {
   "cell_type": "code",
   "execution_count": 10,
   "metadata": {},
   "outputs": [
    {
     "data": {
      "text/plain": [
       "0.6157400711341359"
      ]
     },
     "execution_count": 10,
     "metadata": {},
     "output_type": "execute_result"
    }
   ],
   "source": [
    "clf.score(test_X, test_y)"
   ]
  },
  {
   "cell_type": "code",
   "execution_count": 11,
   "metadata": {},
   "outputs": [
    {
     "data": {
      "text/plain": [
       "array([3.78622867e-02, 5.40628273e-02, 7.44949197e-03, 0.00000000e+00,\n",
       "       0.00000000e+00, 1.09973675e-03, 3.32291006e-03, 2.94390666e-02,\n",
       "       5.05855966e-03, 3.15241085e-04, 6.83447788e-03, 1.20157193e-02,\n",
       "       7.16372311e-03, 5.04310284e-03, 5.80844173e-03, 5.51258611e-04,\n",
       "       1.26767166e-04, 2.30381490e-03, 0.00000000e+00, 7.67466798e-03,\n",
       "       3.54183552e-01, 1.93251306e-01, 2.66433048e-01])"
      ]
     },
     "execution_count": 11,
     "metadata": {},
     "output_type": "execute_result"
    }
   ],
   "source": [
    "clf.feature_importances_"
   ]
  },
  {
   "cell_type": "code",
   "execution_count": 14,
   "metadata": {},
   "outputs": [],
   "source": [
    "import pickle\n",
    "\n",
    "with open(\"model.pickle\", \"wb\") as f:\n",
    "    pickle.dump(clf, f)"
   ]
  },
  {
   "cell_type": "code",
   "execution_count": null,
   "metadata": {},
   "outputs": [],
   "source": []
  }
 ],
 "metadata": {
  "kernelspec": {
   "display_name": "Python 3",
   "language": "python",
   "name": "python3"
  },
  "language_info": {
   "codemirror_mode": {
    "name": "ipython",
    "version": 3
   },
   "file_extension": ".py",
   "mimetype": "text/x-python",
   "name": "python",
   "nbconvert_exporter": "python",
   "pygments_lexer": "ipython3",
   "version": "3.7.1"
  }
 },
 "nbformat": 4,
 "nbformat_minor": 2
}
