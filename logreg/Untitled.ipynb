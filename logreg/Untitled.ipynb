{
 "cells": [
  {
   "cell_type": "code",
   "execution_count": 2,
   "metadata": {},
   "outputs": [],
   "source": [
    "import numpy as np\n",
    "import sys\n",
    "import pandas as pd\n",
    "import scipy as sp\n",
    "import IPython\n",
    "import sklearn"
   ]
  },
  {
   "cell_type": "code",
   "execution_count": 3,
   "metadata": {},
   "outputs": [
    {
     "name": "stdout",
     "output_type": "stream",
     "text": [
      "input.py\t       test.csv        train.csv\r\n",
      "sample_submission.csv  to_tfrecord.py  Untitled.ipynb\r\n"
     ]
    }
   ],
   "source": [
    "!ls"
   ]
  },
  {
   "cell_type": "code",
   "execution_count": 12,
   "metadata": {},
   "outputs": [
    {
     "name": "stdout",
     "output_type": "stream",
     "text": [
      "   crew experiment      time  seat   eeg_fp1     eeg_f7     eeg_f8     eeg_t4  \\\n",
      "0     1         CA  0.011719     1  -5.28545  26.775801  -9.527310 -12.793200   \n",
      "1     1         CA  0.015625     1  -2.42842  28.430901  -9.323510  -3.757230   \n",
      "2     1         CA  0.019531     1  10.67150  30.420200  15.350700  24.724001   \n",
      "3     1         CA  0.023438     1  11.45250  25.609800   2.433080  12.412500   \n",
      "4     1         CA  0.027344     1   7.28321  25.942600   0.113564   5.748000   \n",
      "\n",
      "      eeg_t6     eeg_t5  ...       eeg_c4     eeg_p4    eeg_poz   eeg_c3  \\\n",
      "0  16.717800  33.737499  ...    37.368999  17.437599  19.201900  20.5968   \n",
      "1  15.969300  30.443600  ...    31.170799  19.399700  19.689501  21.3547   \n",
      "2  16.143101  32.142799  ...   -12.012600  19.396299  23.171700  22.4076   \n",
      "3  20.533300  31.494101  ...    18.574100  23.156401  22.641199  19.3367   \n",
      "4  19.833599  28.753599  ...     6.555440  22.754700  22.670300  20.2932   \n",
      "\n",
      "    eeg_cz     eeg_o2     ecg           r         gsr  event  \n",
      "0 -3.95115  14.507600 -4520.0  817.705994  388.829987      A  \n",
      "1  1.33212  17.750200 -4520.0  817.705994  388.829987      A  \n",
      "2  1.53786  22.247000 -4520.0  817.705994  388.829987      A  \n",
      "3  2.54492  18.998600 -4520.0  817.705994  388.829987      A  \n",
      "4  1.69962  22.812799 -4520.0  817.705994  388.829987      A  \n",
      "\n",
      "[5 rows x 28 columns]\n",
      "         crew experiment       time  seat    eeg_fp1     eeg_f7     eeg_f8  \\\n",
      "1000000     2         SS  99.020004     0  53.519699  74.380997 -49.384499   \n",
      "1000001     2         SS  99.023438     1 -24.375000  -2.617720 -36.493000   \n",
      "1000002     2         SS  99.024002     0  56.662601  77.165001 -50.681400   \n",
      "1000003     2         SS  99.027344     1 -13.089600  11.616400 -24.600100   \n",
      "1000004     2         SS  99.028008     0  58.236698  83.873299 -28.276100   \n",
      "\n",
      "            eeg_t4     eeg_t6     eeg_t5  ...       eeg_c4     eeg_p4  \\\n",
      "1000000 -44.697399 -25.762300  -3.307250  ...   -33.231602 -25.186100   \n",
      "1000001 -36.650902  10.220200  20.025999  ...   -32.030800 -28.987700   \n",
      "1000002 -37.083401 -24.429199   4.737740  ...   -23.030300 -19.945200   \n",
      "1000003 -26.628799  -5.928150  16.432800  ...   -18.431801 -20.193701   \n",
      "1000004 -22.533100 -22.130699   8.003210  ...    -6.867530 -14.924300   \n",
      "\n",
      "           eeg_poz     eeg_c3    eeg_cz    eeg_o2          ecg           r  \\\n",
      "1000000 -10.590800  10.356800  -1.51258 -13.99710 -4507.000000  735.184021   \n",
      "1000001 -12.852400 -15.640800 -27.09630  -7.89040  9048.419922  819.169983   \n",
      "1000002  -4.331830  24.066700   7.47759  -8.16486 -4507.000000  735.184021   \n",
      "1000003  -5.383620   0.245760 -15.87450  -8.49124  9048.419922  819.169983   \n",
      "1000004   0.181796  28.250099  14.51200  -6.33834 -4507.000000  735.184021   \n",
      "\n",
      "                gsr  event  \n",
      "1000000  761.322021      B  \n",
      "1000001    0.000000      B  \n",
      "1000002  761.322021      B  \n",
      "1000003    0.000000      B  \n",
      "1000004  761.322021      B  \n",
      "\n",
      "[5 rows x 28 columns]\n",
      "         crew experiment        time  seat   eeg_fp1   eeg_f7    eeg_f8  \\\n",
      "2000000     4         SS  235.588013     1 -10.70920 -4.87831   5.15336   \n",
      "2000001     4         SS  235.595016     0  -3.34483  1.83482   5.43441   \n",
      "2000002     4         SS  235.596008     1 -11.76200  4.34842  -3.68971   \n",
      "2000003     4         SS  235.602005     0  -5.08579 -2.77394   1.18422   \n",
      "2000004     4         SS  235.603012     1 -11.05370 -6.46156 -10.72830   \n",
      "\n",
      "          eeg_t4   eeg_t6    eeg_t5  ...      eeg_c4    eeg_p4  eeg_poz  \\\n",
      "2000000 -5.53749  1.40726   8.82377  ...    3.974440 -0.406565 -1.26074   \n",
      "2000001 -4.62510  3.08202   3.14325  ...   -0.417631  1.801160  8.25900   \n",
      "2000002  6.98553 -4.25788   3.97659  ...   -4.702050 -5.869890 -1.96026   \n",
      "2000003 -6.71650  1.21892   2.16636  ...   -4.364380 -0.597853  5.92566   \n",
      "2000004 -1.65414 -3.96625  10.62400  ...    4.373650 -3.353560 -1.85745   \n",
      "\n",
      "            eeg_c3    eeg_cz    eeg_o2          ecg           r         gsr  \\\n",
      "2000000   0.176291 -10.75720   1.68507  6178.439941  823.578979  459.157990   \n",
      "2000001  -3.306480  -6.29858  13.53010  -203.274002  571.580017  817.067993   \n",
      "2000002 -15.137300 -13.65080   2.78003  6178.439941  823.578979  459.157990   \n",
      "2000003  -3.591170  -7.15441   8.44013  -203.274002  571.580017  817.067993   \n",
      "2000004  -3.804620 -10.13320  -3.19880  6178.439941  823.578979  459.157990   \n",
      "\n",
      "         event  \n",
      "2000000      A  \n",
      "2000001      A  \n",
      "2000002      A  \n",
      "2000003      A  \n",
      "2000004      A  \n",
      "\n",
      "[5 rows x 28 columns]\n",
      "         crew experiment      time  seat   eeg_fp1    eeg_f7    eeg_f8  \\\n",
      "3000000     6         DA  5.988281     0  0.099884  4.799040 -0.073269   \n",
      "3000001     6         DA  5.988281     1  1.110850 -3.246130  7.468520   \n",
      "3000002     6         DA  5.992188     0  0.961613  4.362430  1.821770   \n",
      "3000003     6         DA  5.992188     1 -3.446390 -6.003880  3.675240   \n",
      "3000004     6         DA  5.996094     0 -6.441670 -0.028643 -8.083650   \n",
      "\n",
      "          eeg_t4    eeg_t6   eeg_t5  ...      eeg_c4    eeg_p4  eeg_poz  \\\n",
      "3000000  2.65775  2.537360  7.49004  ...    2.591610  1.886240 -1.82193   \n",
      "3000001  3.63858 -2.774700  7.12829  ...    8.196170  6.355740  2.70845   \n",
      "3000002  1.19944  7.251610  8.17092  ...    3.851810  3.648370 -1.74162   \n",
      "3000003  8.24096  0.196672  3.69221  ...    6.053030  5.552260  2.46438   \n",
      "3000004 -4.78916  1.968140  2.84509  ...   -0.853291 -0.616245 -8.68687   \n",
      "\n",
      "           eeg_c3    eeg_cz    eeg_o2           ecg           r          gsr  \\\n",
      "3000000  1.915020 -3.425360  3.848460  33524.398438  652.791992   931.716980   \n",
      "3000001  1.849430  1.467450  1.390830  13067.400391  791.226013  1665.260010   \n",
      "3000002  1.222240 -3.603880  4.137480  33524.398438  652.791992   931.716980   \n",
      "3000003  0.996122  0.619827  4.912750  13067.400391  791.226013  1665.260010   \n",
      "3000004 -5.474060 -7.190360 -0.939399  33514.398438  652.888977   931.758972   \n",
      "\n",
      "         event  \n",
      "3000000      A  \n",
      "3000001      A  \n",
      "3000002      A  \n",
      "3000003      A  \n",
      "3000004      A  \n",
      "\n",
      "[5 rows x 28 columns]\n",
      "         crew experiment        time  seat    eeg_fp1     eeg_f7     eeg_f8  \\\n",
      "4000000     8         DA  188.757812     1  13.208400  18.083900   2.631370   \n",
      "4000001     8         DA  188.761719     0  17.409901  27.063999  40.568901   \n",
      "4000002     8         DA  188.761719     1  10.571600   8.197370   6.258300   \n",
      "4000003     8         DA  188.765625     0  13.627100  22.839500   2.896160   \n",
      "4000004     8         DA  188.765625     1  11.756100   4.253910   3.065680   \n",
      "\n",
      "           eeg_t4     eeg_t6    eeg_t5  ...      eeg_c4    eeg_p4  eeg_poz  \\\n",
      "4000000   2.85948   1.941800 -7.876860  ...    10.98110  11.79040  7.61630   \n",
      "4000001  11.36180  -0.813418 -2.232450  ...    11.29690   5.96190  5.69122   \n",
      "4000002  -1.17635   3.375470  7.150240  ...    10.74530  12.83990  9.84306   \n",
      "4000003  10.99270  -4.282060 -3.615430  ...     6.79597   3.29305  2.60222   \n",
      "4000004   4.91395  12.493200  0.752237  ...    11.60090  11.65170  4.25618   \n",
      "\n",
      "           eeg_c3    eeg_cz   eeg_o2           ecg           r          gsr  \\\n",
      "4000000   9.95557   7.70448  0.00000     50.327702  803.478027   680.218018   \n",
      "4000001   6.16282  13.79110 -2.00030  26706.699219  674.981995  1571.729980   \n",
      "4000002  13.34880   8.93962  3.91705     50.327702  803.478027   680.218018   \n",
      "4000003  11.59250  11.18690 -4.58319  26706.699219  674.981995  1571.729980   \n",
      "4000004   2.07155   3.25773 -3.32337     50.327702  803.478027   680.218018   \n",
      "\n",
      "         event  \n",
      "4000000      A  \n",
      "4000001      A  \n",
      "4000002      A  \n",
      "4000003      A  \n",
      "4000004      A  \n",
      "\n",
      "[5 rows x 28 columns]\n"
     ]
    }
   ],
   "source": [
    "cs = 10 ** 6\n",
    "for chunk in pd.read_csv(\"train.csv\", chunksize=cs, error_bad_lines=False):\n",
    "    print(chunk.head())\n",
    "    chunk.head()\n",
    "    "
   ]
  },
  {
   "cell_type": "code",
   "execution_count": 4,
   "metadata": {},
   "outputs": [],
   "source": [
    "from sklearn.linear_model import LogisticRegression\n",
    "from sklearn import metrics"
   ]
  },
  {
   "cell_type": "code",
   "execution_count": 5,
   "metadata": {},
   "outputs": [
    {
     "name": "stdout",
     "output_type": "stream",
     "text": [
      "file read\n"
     ]
    },
    {
     "name": "stderr",
     "output_type": "stream",
     "text": [
      "/home/colin/.local/lib/python3.6/site-packages/sklearn/linear_model/logistic.py:433: FutureWarning: Default solver will be changed to 'lbfgs' in 0.22. Specify a solver to silence this warning.\n",
      "  FutureWarning)\n"
     ]
    },
    {
     "data": {
      "text/plain": [
       "LogisticRegression(C=1.0, class_weight=None, dual=False, fit_intercept=True,\n",
       "          intercept_scaling=1, max_iter=100, multi_class='warn',\n",
       "          n_jobs=None, penalty='l2', random_state=None, solver='warn',\n",
       "          tol=0.0001, verbose=0, warm_start=False)"
      ]
     },
     "execution_count": 5,
     "metadata": {},
     "output_type": "execute_result"
    }
   ],
   "source": [
    "predictors = ['eeg_f7', 'eeg_t4', 'eeg_t6', 'eeg_t3', 'eeg_fp2', 'eeg_o1', 'eeg_p3', 'eeg_pz', 'eeg_poz', 'eeg_o2', 'ecg', 'r', 'gsr']\n",
    "logreg = LogisticRegression()\n",
    "df = pd.read_csv(\"train.csv\", error_bad_lines=False)\n",
    "print('file read')\n",
    "X_train = df[predictors]\n",
    "y_train = df['event'].isin(['B', 'C', 'D']).astype(int)\n",
    "logreg.fit(X_train, y_train)"
   ]
  },
  {
   "cell_type": "code",
   "execution_count": 6,
   "metadata": {},
   "outputs": [],
   "source": [
    "pred = logreg.predict(X_train)\n",
    "r2 = metrics.r2_score(y_train, pred)\n",
    "cm = metrics.confusion_matrix(y_train, pred)\n",
    "cr = metrics.classification_report(y_train, pred)"
   ]
  },
  {
   "cell_type": "code",
   "execution_count": 7,
   "metadata": {},
   "outputs": [
    {
     "name": "stdout",
     "output_type": "stream",
     "text": [
      "[[2766202   82607]\n",
      " [1943917   74695]]\n"
     ]
    }
   ],
   "source": [
    "print(cm)"
   ]
  },
  {
   "cell_type": "code",
   "execution_count": 8,
   "metadata": {},
   "outputs": [
    {
     "name": "stdout",
     "output_type": "stream",
     "text": [
      "              precision    recall  f1-score   support\n",
      "\n",
      "           0       0.59      0.97      0.73   2848809\n",
      "           1       0.47      0.04      0.07   2018612\n",
      "\n",
      "   micro avg       0.58      0.58      0.58   4867421\n",
      "   macro avg       0.53      0.50      0.40   4867421\n",
      "weighted avg       0.54      0.58      0.46   4867421\n",
      "\n"
     ]
    }
   ],
   "source": [
    "print(cr)"
   ]
  }
 ],
 "metadata": {
  "kernelspec": {
   "display_name": "Python 3",
   "language": "python",
   "name": "python3"
  },
  "language_info": {
   "codemirror_mode": {
    "name": "ipython",
    "version": 3
   },
   "file_extension": ".py",
   "mimetype": "text/x-python",
   "name": "python",
   "nbconvert_exporter": "python",
   "pygments_lexer": "ipython3",
   "version": "3.6.7"
  }
 },
 "nbformat": 4,
 "nbformat_minor": 2
}
